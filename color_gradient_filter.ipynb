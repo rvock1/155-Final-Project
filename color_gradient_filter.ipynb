{
 "cells": [
  {
   "cell_type": "markdown",
   "id": "9ad1479b",
   "metadata": {},
   "source": [
    "# Gradient Mapping"
   ]
  },
  {
   "cell_type": "code",
   "execution_count": 2,
   "id": "ed8907a5",
   "metadata": {},
   "outputs": [],
   "source": [
    "import cv2\n",
    "import numpy as np\n",
    "\n",
    "BLACK = (23, 8, 0)\n",
    "BLUE = (185, 73, 51)\n",
    "RED = (77, 48, 255)\n",
    "ORANGE = (86, 217, 255)\n",
    "LEMONADE = (198, 255, 244)\n",
    "\n",
    "# NOTE: in cv2, RGB colors are expressed at 3-tuples in the order of blue, green, red (BGR)\n",
    "\n",
    "def gradientMapping(colors: list, location: list):\n",
    "    \n",
    "    num_colors = len(colors)\n",
    "    mapping_dict = {}\n",
    "    \n",
    "    \n",
    "    for i in range(num_colors - 1):        \n",
    "        \n",
    "        \n",
    "        steps = np.ceil(255 * (location[i+1] - location[i]))\n",
    "        \n",
    "        b_stepsize = (colors[i+1][0] - colors[i][0]) / steps\n",
    "        g_stepsize = (colors[i+1][1] - colors[i][1]) / steps\n",
    "        r_stepsize = (colors[i+1][2] - colors[i][2]) / steps\n",
    "        \n",
    "        \n",
    "        for step in range(int(steps + 1)): \n",
    "            mapping_dict[step + np.floor(location[i] * 255)] = [colors[i][0] + b_stepsize * step, colors[i][1] + g_stepsize * step, colors[i][2] + r_stepsize * step]\n",
    "\n",
    "            \n",
    "            \n",
    "    return(mapping_dict)\n",
    "\n",
    "\n"
   ]
  },
  {
   "cell_type": "markdown",
   "id": "13443525",
   "metadata": {},
   "source": [
    "# Picture Filter"
   ]
  },
  {
   "cell_type": "code",
   "execution_count": 14,
   "id": "b6c760a3",
   "metadata": {},
   "outputs": [],
   "source": [
    "color_mapping = gradientMapping([BLACK, BLUE, RED, ORANGE, LEMONADE], [0, 0.25, 0.4, 0.6 ,1])\n",
    "\n",
    "cam = cv2.VideoCapture(0)\n",
    "\n",
    "HEIGHT = 480\n",
    "WIDTH = 640\n",
    "\n",
    "\n",
    "ret, frame = cam.read()\n",
    "\n",
    "frame = cv2.cvtColor(frame, cv2.COLOR_BGR2GRAY)\n",
    "\n",
    "transformed_frame = np.zeros((HEIGHT,WIDTH,3), np.uint8)\n",
    "for i in range(HEIGHT):\n",
    "    for j in range(WIDTH):\n",
    "        transformed_frame[i,j] = color_mapping[frame[i,j]]\n",
    "\n",
    "\n",
    "cv2.imshow(\"frame\", transformed_frame)\n",
    "while True:\n",
    "    if cv2.waitKey(1) & 0xFF == ord('q'):\n",
    "        break\n",
    "    \n",
    "    \n",
    "# After the loop release the cap object\n",
    "cam.release()\n",
    "# Destroy all the windows\n",
    "cv2.destroyAllWindows()   "
   ]
  },
  {
   "cell_type": "markdown",
   "id": "bb166435",
   "metadata": {},
   "source": [
    "# Video Filter"
   ]
  },
  {
   "cell_type": "code",
   "execution_count": 8,
   "id": "c4b7e357",
   "metadata": {},
   "outputs": [],
   "source": [
    "color_mapping = gradientMapping([BLACK, BLUE, RED, ORANGE, LEMONADE], [0, 0.25, 0.4, 0.6 ,1])\n",
    "\n",
    "cam = cv2.VideoCapture(0)\n",
    "\n",
    "HEIGHT = 480\n",
    "WIDTH = 640\n",
    "\n",
    "while True:\n",
    "\n",
    "\n",
    "    ret, frame = cam.read()\n",
    "\n",
    "    frame = cv2.cvtColor(frame, cv2.COLOR_BGR2GRAY)\n",
    "\n",
    "    transformed_frame = np.zeros((HEIGHT,WIDTH,3), np.uint8)\n",
    "    for i in range(HEIGHT):\n",
    "        for j in range(WIDTH):\n",
    "            transformed_frame[i,j] = color_mapping[frame[i,j]]\n",
    "            \n",
    "    \n",
    "    cv2.imshow(\"frame\", transformed_frame)\n",
    "    if cv2.waitKey(1) & 0xFF == ord('q'):\n",
    "        break\n",
    "    \n",
    "    \n",
    "# After the loop release the cap object\n",
    "cam.release()\n",
    "# Destroy all the windows\n",
    "cv2.destroyAllWindows()   "
   ]
  },
  {
   "cell_type": "markdown",
   "id": "dd332d80",
   "metadata": {},
   "source": [
    "# Mapping from Grayscale to Gradiant\n",
    "\n"
   ]
  },
  {
   "cell_type": "code",
   "execution_count": 11,
   "id": "222360fa",
   "metadata": {},
   "outputs": [],
   "source": [
    "HEIGHT = 480\n",
    "WIDTH = 640\n",
    "\n",
    "\n",
    "frame = np.zeros((255,WIDTH), np.uint8)\n",
    "for i in range(255):\n",
    "    frame[i,:] = i\n",
    "        \n",
    "transformed_frame = np.zeros((255,WIDTH,3), np.uint8)\n",
    "for i in range(255):\n",
    "    for j in range(WIDTH):\n",
    "        transformed_frame[i,j] = color_mapping[frame[i,j]]\n",
    "\n",
    "if ret:\n",
    "    \n",
    "    cv2.imshow(\"grayscale\", frame)\n",
    "    cv2.imshow(\"color mapping\", transformed_frame)\n",
    "    \n",
    "    \n",
    "    cv2.waitKey(0)\n",
    "    cv2.destroyAllWindows()\n",
    "  \n",
    "# If captured image is corrupted, moving to else part\n",
    "else:\n",
    "    print(\"No image detected. Please! try again\")    "
   ]
  }
 ],
 "metadata": {
  "kernelspec": {
   "display_name": "Python 3 (ipykernel)",
   "language": "python",
   "name": "python3"
  },
  "language_info": {
   "codemirror_mode": {
    "name": "ipython",
    "version": 3
   },
   "file_extension": ".py",
   "mimetype": "text/x-python",
   "name": "python",
   "nbconvert_exporter": "python",
   "pygments_lexer": "ipython3",
   "version": "3.9.13"
  }
 },
 "nbformat": 4,
 "nbformat_minor": 5
}
